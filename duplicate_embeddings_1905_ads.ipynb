{
  "nbformat": 4,
  "nbformat_minor": 0,
  "metadata": {
    "colab": {
      "name": "duplicate_embeddings_1905_ads.ipynb",
      "provenance": [],
      "collapsed_sections": [],
      "mount_file_id": "1aEZUsTbepoaC-Zz4H4mXA-M9XyA95T_i",
      "authorship_tag": "ABX9TyPqrzvtA6ktaxgNhwUMNnXC",
      "include_colab_link": true
    },
    "kernelspec": {
      "name": "python3",
      "display_name": "Python 3"
    },
    "language_info": {
      "name": "python"
    }
  },
  "cells": [
    {
      "cell_type": "markdown",
      "metadata": {
        "id": "view-in-github",
        "colab_type": "text"
      },
      "source": [
        "<a href=\"https://colab.research.google.com/github/anna-luisab/newspaper-navigator/blob/master/duplicate_embeddings_1905_ads.ipynb\" target=\"_parent\"><img src=\"https://colab.research.google.com/assets/colab-badge.svg\" alt=\"Open In Colab\"/></a>"
      ]
    },
    {
      "cell_type": "markdown",
      "source": [
        "Imports"
      ],
      "metadata": {
        "id": "8JR81yaIZUeE"
      }
    },
    {
      "cell_type": "code",
      "execution_count": 20,
      "metadata": {
        "id": "mLB-4XAhd72S"
      },
      "outputs": [],
      "source": [
        "import numpy as np\n",
        "import pandas as pd\n",
        "import altair as alt\n",
        "import json\n",
        "import io\n",
        "from collections import Counter"
      ]
    },
    {
      "cell_type": "code",
      "source": [
        "from google.colab import drive\n",
        "drive.mount('/content/drive')"
      ],
      "metadata": {
        "colab": {
          "base_uri": "https://localhost:8080/"
        },
        "id": "bixvn6qIjakX",
        "outputId": "874a790d-b430-4a0b-f79d-1195e46b3073"
      },
      "execution_count": 21,
      "outputs": [
        {
          "output_type": "stream",
          "name": "stdout",
          "text": [
            "Drive already mounted at /content/drive; to attempt to forcibly remount, call drive.mount(\"/content/drive\", force_remount=True).\n"
          ]
        }
      ]
    },
    {
      "cell_type": "markdown",
      "source": [
        "Initialize dict & read embeddings file "
      ],
      "metadata": {
        "id": "y-6N4VwyZXpa"
      }
    },
    {
      "cell_type": "code",
      "source": [
        "unique_dict = {}\n",
        "\n",
        "with open('/1905_ads_sample_embeddings.json') as f:\n",
        "  embeddings_1905 = json.load(f)\n",
        "\n",
        "type(embeddings_1905)\n",
        "\n",
        "# embeddings_1905.keys()\n",
        "  \n",
        "\n",
        "# df = pd.read_json('1905_ads_sample_embeddings.json')\n",
        "# pd.json_normalize(embeddings_1905, record_path=['filepath'],\n",
        "#                  meta= ['resnet_18_embedding'])"
      ],
      "metadata": {
        "colab": {
          "base_uri": "https://localhost:8080/"
        },
        "id": "S5EnbsQFkpai",
        "outputId": "9b5350e9-811e-4481-e118-89569a2fd09f"
      },
      "execution_count": 22,
      "outputs": [
        {
          "output_type": "execute_result",
          "data": {
            "text/plain": [
              "list"
            ]
          },
          "metadata": {},
          "execution_count": 22
        }
      ]
    },
    {
      "cell_type": "code",
      "source": [
        "#initialize set of embeddings\n",
        "\n",
        "for file in embeddings_1905:\n",
        "  filepath = file[\"filepath\"]\n",
        "  data = file[\"resnet_18_embedding\"]\n",
        "  # print(data)\n",
        "  # some code here which adds data to an list and tracks counter\n",
        "  try:\n",
        "    unique_dict[filepath].append(data)\n",
        "    seen.add(filepath)\n",
        "\n",
        "  except KeyError:\n",
        "    unique_dict[filepath] = [data]\n"
      ],
      "metadata": {
        "id": "ow0MDM3nPDEG"
      },
      "execution_count": 23,
      "outputs": []
    },
    {
      "cell_type": "markdown",
      "source": [
        "Test keys from embeddings data"
      ],
      "metadata": {
        "id": "6qpRaq-bZNyW"
      }
    },
    {
      "cell_type": "code",
      "source": [
        "file_names = [k for k in unique_dict.keys()]\n",
        "\n",
        "print(file_names[0:3])"
      ],
      "metadata": {
        "colab": {
          "base_uri": "https://localhost:8080/"
        },
        "id": "1QHI4x0USWe8",
        "outputId": "355ee81c-255c-4750-ca6f-69aa3228b022"
      },
      "execution_count": 24,
      "outputs": [
        {
          "output_type": "stream",
          "name": "stdout",
          "text": [
            "['prru_caracol_ver01/data/sn90070270/0027176179A/1905012601/0169/005_6_90.jpg', 'mdu_henson_ver01/data/sn83016107/00415625601/1905051201/0082/003_6_98.jpg', 'txdn_infiniti_ver03/data/sn86088652/00200297039/1905052801/0477/001_6_99.jpg']\n"
          ]
        }
      ]
    },
    {
      "cell_type": "markdown",
      "source": [
        "Search for & store duplicates via resnet18 embeddings"
      ],
      "metadata": {
        "id": "Rh5aERXkZMU9"
      }
    },
    {
      "cell_type": "code",
      "source": [
        "a = dict(Counter(unique_dict))\n",
        "\n",
        "print(a)"
      ],
      "metadata": {
        "id": "uWNfKOEPclV5",
        "colab": {
          "base_uri": "https://localhost:8080/"
        },
        "outputId": "4f30ff14-bd24-43d8-a076-46b1116d52d3"
      },
      "execution_count": 27,
      "outputs": [
        {
          "output_type": "stream",
          "name": "stderr",
          "text": [
            "IOPub data rate exceeded.\n",
            "The notebook server will temporarily stop sending output\n",
            "to the client in order to avoid crashing it.\n",
            "To change this limit, set the config variable\n",
            "`--NotebookApp.iopub_data_rate_limit`.\n",
            "\n",
            "Current values:\n",
            "NotebookApp.iopub_data_rate_limit=1000000.0 (bytes/sec)\n",
            "NotebookApp.rate_limit_window=3.0 (secs)\n",
            "\n"
          ]
        }
      ]
    }
  ]
}